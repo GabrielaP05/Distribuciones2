{
  "nbformat": 4,
  "nbformat_minor": 0,
  "metadata": {
    "colab": {
      "provenance": [],
      "authorship_tag": "ABX9TyPDzvKs2wTPVnI4oaRxLDTS",
      "include_colab_link": true
    },
    "kernelspec": {
      "name": "python3",
      "display_name": "Python 3"
    },
    "language_info": {
      "name": "python"
    }
  },
  "cells": [
    {
      "cell_type": "markdown",
      "metadata": {
        "id": "view-in-github",
        "colab_type": "text"
      },
      "source": [
        "<a href=\"https://colab.research.google.com/github/GabrielaP05/Distribuciones2/blob/main/Analizandodistribuciones2.ipynb\" target=\"_parent\"><img src=\"https://colab.research.google.com/assets/colab-badge.svg\" alt=\"Open In Colab\"/></a>"
      ]
    },
    {
      "cell_type": "code",
      "source": [
        "import pandas as pd\n",
        "import matplotlib.pyplot as plt\n",
        "# Instala gdown para descargar archivos de Google Drive\n",
        "!pip install gdown\n",
        "\n",
        "# Obtén el enlace para compartir de tu archivo y reemplaza 'YOUR_FILE_ID'\n",
        "datos_descargados= 'https://drive.google.com/file/d/1XHmylmQS9P3NJ-71GviyRaNH2R6WQ8jq/view?usp=sharing'\n",
        "\n",
        "\n",
        "# Descarga el archivo\n",
        "!gdown {file_path}\n",
        "\n",
        "# Ahora puedes leer el archivo descargado\n",
        "df = pd.read_csv(datos_descargados.csv) # Reemplaza con el nombre real del archivo descargado\n",
        "\n",
        "# ... resto de tu código ...\n",
        "# Graficar la distribución de edades con un histograma\n",
        "plt.figure(figsize=(10, 6))\n",
        "plt.hist(df['edad'], bins=20, edgecolor='black')\n",
        "plt.title('Distribución de Edades')\n",
        "plt.xlabel('Edad')\n",
        "plt.ylabel('Frecuencia')\n",
        "plt.grid(True)\n",
        "plt.show()\n",
        "\n",
        "# Graficar histogramas agrupados por género: cantidad de anémicos, diabéticos, fumadores, muertos\n",
        "plt.figure(figsize=(12, 8))\n",
        "\n",
        "# Definir los datos para cada grupo\n",
        "group_names = ['Anémicos', 'Diabéticos', 'Fumadores', 'Muertos']\n",
        "bar_width = 0.35\n",
        "index = df['genero'].unique()\n",
        "\n",
        "for i, group in enumerate(group_names):\n",
        "    plt.subplot(2, 2, i+1)\n",
        "    for j, status in enumerate(['anemico', 'diabetico', 'fumador', 'muerto']):\n",
        "        counts = df[df[status] == 1].groupby('genero').size()\n",
        "        plt.bar(index - bar_width/2 + j*bar_width/2, counts, bar_width, label=status, align='edge')\n",
        "\n",
        "    plt.xlabel('Género')\n",
        "    plt.ylabel('Cantidad')\n",
        "    plt.title(f'{group} por Género')\n",
        "    plt.xticks(index, ['Hombre', 'Mujer'])\n",
        "    plt.legend()\n",
        "\n",
        "plt.tight_layout()\n",
        "plt.show()\n"
      ],
      "metadata": {
        "colab": {
          "base_uri": "https://localhost:8080/",
          "height": 471
        },
        "id": "yynboWcTS8D5",
        "outputId": "ee258aef-bef5-4543-9955-2ab2b6e216e5"
      },
      "execution_count": 35,
      "outputs": [
        {
          "output_type": "stream",
          "name": "stdout",
          "text": [
            "Requirement already satisfied: gdown in /usr/local/lib/python3.10/dist-packages (5.1.0)\n",
            "Requirement already satisfied: beautifulsoup4 in /usr/local/lib/python3.10/dist-packages (from gdown) (4.12.3)\n",
            "Requirement already satisfied: filelock in /usr/local/lib/python3.10/dist-packages (from gdown) (3.15.3)\n",
            "Requirement already satisfied: requests[socks] in /usr/local/lib/python3.10/dist-packages (from gdown) (2.31.0)\n",
            "Requirement already satisfied: tqdm in /usr/local/lib/python3.10/dist-packages (from gdown) (4.66.4)\n",
            "Requirement already satisfied: soupsieve>1.2 in /usr/local/lib/python3.10/dist-packages (from beautifulsoup4->gdown) (2.5)\n",
            "Requirement already satisfied: charset-normalizer<4,>=2 in /usr/local/lib/python3.10/dist-packages (from requests[socks]->gdown) (3.3.2)\n",
            "Requirement already satisfied: idna<4,>=2.5 in /usr/local/lib/python3.10/dist-packages (from requests[socks]->gdown) (3.7)\n",
            "Requirement already satisfied: urllib3<3,>=1.21.1 in /usr/local/lib/python3.10/dist-packages (from requests[socks]->gdown) (2.0.7)\n",
            "Requirement already satisfied: certifi>=2017.4.17 in /usr/local/lib/python3.10/dist-packages (from requests[socks]->gdown) (2024.6.2)\n",
            "Requirement already satisfied: PySocks!=1.5.7,>=1.5.6 in /usr/local/lib/python3.10/dist-packages (from requests[socks]->gdown) (1.7.1)\n",
            "Downloading...\n",
            "From: https://drive.google.com/uc?id=1XHmylmQS9P3NJ-71GviyRaNH2R6WQ8jq\n",
            "To: /content/datos_descargados.csv\n",
            "100% 12.2k/12.2k [00:00<00:00, 30.3MB/s]\n"
          ]
        },
        {
          "output_type": "error",
          "ename": "AttributeError",
          "evalue": "'str' object has no attribute 'csv'",
          "traceback": [
            "\u001b[0;31m---------------------------------------------------------------------------\u001b[0m",
            "\u001b[0;31mAttributeError\u001b[0m                            Traceback (most recent call last)",
            "\u001b[0;32m<ipython-input-35-9d690973059c>\u001b[0m in \u001b[0;36m<cell line: 14>\u001b[0;34m()\u001b[0m\n\u001b[1;32m     12\u001b[0m \u001b[0;34m\u001b[0m\u001b[0m\n\u001b[1;32m     13\u001b[0m \u001b[0;31m# Ahora puedes leer el archivo descargado\u001b[0m\u001b[0;34m\u001b[0m\u001b[0;34m\u001b[0m\u001b[0m\n\u001b[0;32m---> 14\u001b[0;31m \u001b[0mdf\u001b[0m \u001b[0;34m=\u001b[0m \u001b[0mpd\u001b[0m\u001b[0;34m.\u001b[0m\u001b[0mread_csv\u001b[0m\u001b[0;34m(\u001b[0m\u001b[0mdatos_descargados\u001b[0m\u001b[0;34m.\u001b[0m\u001b[0mcsv\u001b[0m\u001b[0;34m)\u001b[0m \u001b[0;31m# Reemplaza con el nombre real del archivo descargado\u001b[0m\u001b[0;34m\u001b[0m\u001b[0;34m\u001b[0m\u001b[0m\n\u001b[0m\u001b[1;32m     15\u001b[0m \u001b[0;34m\u001b[0m\u001b[0m\n\u001b[1;32m     16\u001b[0m \u001b[0;31m# ... resto de tu código ...\u001b[0m\u001b[0;34m\u001b[0m\u001b[0;34m\u001b[0m\u001b[0m\n",
            "\u001b[0;31mAttributeError\u001b[0m: 'str' object has no attribute 'csv'"
          ]
        }
      ]
    },
    {
      "source": [
        "import pandas as pd\n",
        "import matplotlib.pyplot as plt\n",
        "# Instala gdown para descargar archivos de Google Drive\n",
        "!pip install gdown\n",
        "\n",
        "# Obtén el enlace para compartir de tu archivo y reemplaza 'YOUR_FILE_ID'\n",
        "file_id = '1XHmylmQS9P3NJ-71GviyRaNH2R6WQ8jq'\n",
        "file_path = f'https://drive.google.com/uc?id={file_id}'\n",
        "\n",
        "# Descarga el archivo\n",
        "!gdown {file_path}\n",
        "\n",
        "# Ahora puedes leer el archivo descargado\n",
        "df = pd.read_csv('1XHmylmQS9P3NJ-71GviyRaNH2R6WQ8jq') # Reemplaza con el nombre real del archivo descargado\n",
        "\n",
        "# ... resto de tu código ..."
      ],
      "cell_type": "code",
      "metadata": {
        "id": "UWhMNgtVUu8J"
      },
      "execution_count": null,
      "outputs": []
    },
    {
      "source": [
        "import pandas as pd\n",
        "import matplotlib.pyplot as plt\n",
        "# Instala gdown para descargar archivos de Google Drive\n",
        "!pip install gdown\n",
        "\n",
        "# Obtén el enlace para compartir de tu archivo y reemplaza 'YOUR_FILE_ID'\n",
        "file_id = '1XHmylmQS9P3NJ-71GviyRaNH2R6WQ8jq'\n",
        "file_path = f'https://drive.google.com/uc?id={file_id}'\n",
        "\n",
        "# Descarga el archivo\n",
        "!gdown {file_path}\n",
        "\n",
        "# Reemplaza 'nombre_real_del_archivo.csv' con el nombre real del archivo descargado\n",
        "nombre_del_archivo = 'datos_descargados.csv'\n",
        "df = pd.read_csv(datos_descargados.csv)\n",
        "\n",
        "# ... resto de tu código ...\n",
        "# Graficar la distribución de edades con un histograma\n",
        "plt.figure(figsize=(10, 6))\n",
        "plt.hist(df['edad'], bins=20, edgecolor='black')\n",
        "plt.title('Distribución de Edades')\n",
        "plt.xlabel('Edad')\n",
        "plt.ylabel('Frecuencia')\n",
        "plt.grid(True)\n",
        "plt.show()\n",
        "\n",
        "# Graficar histogramas agrupados por género: cantidad de anémicos, diabéticos, fumadores, muertos\n",
        "plt.figure(figsize=(12, 8))\n",
        "\n",
        "# Definir los datos para cada grupo\n",
        "group_names = ['Anémicos', 'Diabéticos', 'Fumadores', 'Muertos']\n",
        "bar_width = 0.35\n",
        "index = df['genero'].unique()\n",
        "\n",
        "for i, group in enumerate(group_names):\n",
        "    plt.subplot(2, 2, i+1)\n",
        "    for j, status in enumerate(['anemico', 'diabetico', 'fumador', 'muerto']):\n",
        "        counts = df[df[status] == 1].groupby('genero').size()\n",
        "        plt.bar(index - bar_width/2 + j*bar_width/2, counts, bar_width, label=status, align='edge')\n",
        "\n",
        "    plt.xlabel('Género')\n",
        "    plt.ylabel('Cantidad')\n",
        "    plt.title(f'{group} por Género')\n",
        "    plt.xticks(index, ['Hombre', 'Mujer'])\n",
        "    plt.legend()\n",
        "\n",
        "plt.tight_layout()\n",
        "plt.show()"
      ],
      "cell_type": "code",
      "metadata": {
        "colab": {
          "base_uri": "https://localhost:8080/",
          "height": 647
        },
        "id": "JwbYsKrBWW8s",
        "outputId": "4bdf8ff6-b824-456f-d115-1f0f06192327"
      },
      "execution_count": 26,
      "outputs": [
        {
          "output_type": "stream",
          "name": "stdout",
          "text": [
            "Requirement already satisfied: gdown in /usr/local/lib/python3.10/dist-packages (5.1.0)\n",
            "Requirement already satisfied: beautifulsoup4 in /usr/local/lib/python3.10/dist-packages (from gdown) (4.12.3)\n",
            "Requirement already satisfied: filelock in /usr/local/lib/python3.10/dist-packages (from gdown) (3.15.3)\n",
            "Requirement already satisfied: requests[socks] in /usr/local/lib/python3.10/dist-packages (from gdown) (2.31.0)\n",
            "Requirement already satisfied: tqdm in /usr/local/lib/python3.10/dist-packages (from gdown) (4.66.4)\n",
            "Requirement already satisfied: soupsieve>1.2 in /usr/local/lib/python3.10/dist-packages (from beautifulsoup4->gdown) (2.5)\n",
            "Requirement already satisfied: charset-normalizer<4,>=2 in /usr/local/lib/python3.10/dist-packages (from requests[socks]->gdown) (3.3.2)\n",
            "Requirement already satisfied: idna<4,>=2.5 in /usr/local/lib/python3.10/dist-packages (from requests[socks]->gdown) (3.7)\n",
            "Requirement already satisfied: urllib3<3,>=1.21.1 in /usr/local/lib/python3.10/dist-packages (from requests[socks]->gdown) (2.0.7)\n",
            "Requirement already satisfied: certifi>=2017.4.17 in /usr/local/lib/python3.10/dist-packages (from requests[socks]->gdown) (2024.6.2)\n",
            "Requirement already satisfied: PySocks!=1.5.7,>=1.5.6 in /usr/local/lib/python3.10/dist-packages (from requests[socks]->gdown) (1.7.1)\n",
            "/usr/local/lib/python3.10/dist-packages/gdown/download.py:32: MarkupResemblesLocatorWarning: The input looks more like a filename than markup. You may want to open this file and pass the filehandle into Beautiful Soup.\n",
            "  soup = bs4.BeautifulSoup(line, features=\"html.parser\")\n",
            "Failed to retrieve file url:\n",
            "\n",
            "\tCannot retrieve the public link of the file. You may need to change\n",
            "\tthe permission to 'Anyone with the link', or have had many accesses.\n",
            "\tCheck FAQ in https://github.com/wkentaro/gdown?tab=readme-ov-file#faq.\n",
            "\n",
            "You may still be able to access the file from the browser:\n",
            "\n",
            "\thttps://drive.google.com/uc?id=1XHmylmQS9P3NJ-71GviyRaNH2R6WQ8jq\n",
            "\n",
            "but Gdown can't. Please check connections and permissions.\n"
          ]
        },
        {
          "output_type": "error",
          "ename": "NameError",
          "evalue": "name 'datos_descargados' is not defined",
          "traceback": [
            "\u001b[0;31m---------------------------------------------------------------------------\u001b[0m",
            "\u001b[0;31mNameError\u001b[0m                                 Traceback (most recent call last)",
            "\u001b[0;32m<ipython-input-26-304f0274a1ec>\u001b[0m in \u001b[0;36m<cell line: 15>\u001b[0;34m()\u001b[0m\n\u001b[1;32m     13\u001b[0m \u001b[0;31m# Reemplaza 'nombre_real_del_archivo.csv' con el nombre real del archivo descargado\u001b[0m\u001b[0;34m\u001b[0m\u001b[0;34m\u001b[0m\u001b[0m\n\u001b[1;32m     14\u001b[0m \u001b[0mnombre_del_archivo\u001b[0m \u001b[0;34m=\u001b[0m \u001b[0;34m'datos_descargados.csv'\u001b[0m\u001b[0;34m\u001b[0m\u001b[0;34m\u001b[0m\u001b[0m\n\u001b[0;32m---> 15\u001b[0;31m \u001b[0mdf\u001b[0m \u001b[0;34m=\u001b[0m \u001b[0mpd\u001b[0m\u001b[0;34m.\u001b[0m\u001b[0mread_csv\u001b[0m\u001b[0;34m(\u001b[0m\u001b[0mdatos_descargados\u001b[0m\u001b[0;34m.\u001b[0m\u001b[0mcsv\u001b[0m\u001b[0;34m)\u001b[0m\u001b[0;34m\u001b[0m\u001b[0;34m\u001b[0m\u001b[0m\n\u001b[0m\u001b[1;32m     16\u001b[0m \u001b[0;34m\u001b[0m\u001b[0m\n\u001b[1;32m     17\u001b[0m \u001b[0;31m# ... resto de tu código ...\u001b[0m\u001b[0;34m\u001b[0m\u001b[0;34m\u001b[0m\u001b[0m\n",
            "\u001b[0;31mNameError\u001b[0m: name 'datos_descargados' is not defined"
          ]
        }
      ]
    },
    {
      "source": [
        "import pandas as pd\n",
        "import matplotlib.pyplot as plt\n",
        "# Instala gdown para descargar archivos de Google Drive\n",
        "!pip install gdown\n",
        "\n",
        "# Obtén el enlace para compartir de tu archivo y reemplaza 'YOUR_FILE_ID'\n",
        "file_id = '1XHmylmQS9P3NJ-71GviyRaNH2R6WQ8jq'\n",
        "file_path = f'https://drive.google.com/uc?id={file_id}'\n",
        "\n",
        "# Descarga el archivo\n",
        "!gdown {file_path}\n",
        "\n",
        "# List files in the current directory to find the downloaded file's name\n",
        "!ls\n",
        "\n",
        "# Reemplaza 'nombre_real_del_archivo.csv' con el nombre real del archivo descargado\n",
        "datos_descargados = 'datos_descargados.csv'  # Replace with actual file name\n",
        "df = pd.read_csv(datos_descargados)  # Use the variable 'nombre_del_archivo' here\n",
        "\n",
        "# ... resto de tu código ...\n",
        "# Graficar la distribución de edades con un histograma\n",
        "plt.figure(figsize=(10, 6))\n",
        "plt.hist(df['age'], bins=20, edgecolor='black')\n",
        "plt.title('Distribución de Edades')\n",
        "plt.xlabel('Edad')\n",
        "plt.ylabel('Frecuencia')\n",
        "plt.grid(True)\n",
        "plt.show()\n",
        "\n",
        "# Graficar histogramas agrupados por género: cantidad de anémicos, diabéticos, fumadores, muertos\n",
        "plt.figure(figsize=(12, 8))\n",
        "\n",
        "# Definir los datos para cada grupo\n",
        "group_names = ['Anémicos', 'Diabéticos', 'Fumadores', 'Muertos']\n",
        "bar_width = 0.35\n",
        "index = df['sex'].unique()\n",
        "\n",
        "for i, group in enumerate(group_names):\n",
        "    plt.subplot(2, 2, i+1)\n",
        "    for j, status in enumerate(['anaemia', 'diabetes', 'smoking', 'DEATH_EVENT']):\n",
        "        counts = df[df[status] == 1].groupby('sex').size()\n",
        "        plt.bar(index - bar_width/2 + j*bar_width/2, counts, bar_width, label=status, align='edge')\n",
        "\n",
        "    plt.xlabel('sex')\n",
        "    plt.ylabel('Cantidad')\n",
        "    plt.title(f'{group} por sex')\n",
        "    plt.xticks(index, ['Hombre', 'Mujer'])\n",
        "    plt.legend()\n",
        "\n",
        "plt.tight_layout()\n",
        "plt.show()"
      ],
      "cell_type": "code",
      "metadata": {
        "colab": {
          "base_uri": "https://localhost:8080/"
        },
        "id": "vsuhVEJzXSBh",
        "outputId": "b7c92afe-a875-410c-bd56-d5746d3cc02b"
      },
      "execution_count": 48,
      "outputs": [
        {
          "output_type": "stream",
          "name": "stdout",
          "text": [
            "Requirement already satisfied: gdown in /usr/local/lib/python3.10/dist-packages (5.1.0)\n",
            "Requirement already satisfied: beautifulsoup4 in /usr/local/lib/python3.10/dist-packages (from gdown) (4.12.3)\n",
            "Requirement already satisfied: filelock in /usr/local/lib/python3.10/dist-packages (from gdown) (3.15.3)\n",
            "Requirement already satisfied: requests[socks] in /usr/local/lib/python3.10/dist-packages (from gdown) (2.31.0)\n",
            "Requirement already satisfied: tqdm in /usr/local/lib/python3.10/dist-packages (from gdown) (4.66.4)\n",
            "Requirement already satisfied: soupsieve>1.2 in /usr/local/lib/python3.10/dist-packages (from beautifulsoup4->gdown) (2.5)\n",
            "Requirement already satisfied: charset-normalizer<4,>=2 in /usr/local/lib/python3.10/dist-packages (from requests[socks]->gdown) (3.3.2)\n",
            "Requirement already satisfied: idna<4,>=2.5 in /usr/local/lib/python3.10/dist-packages (from requests[socks]->gdown) (3.7)\n",
            "Requirement already satisfied: urllib3<3,>=1.21.1 in /usr/local/lib/python3.10/dist-packages (from requests[socks]->gdown) (2.0.7)\n",
            "Requirement already satisfied: certifi>=2017.4.17 in /usr/local/lib/python3.10/dist-packages (from requests[socks]->gdown) (2024.6.2)\n",
            "Requirement already satisfied: PySocks!=1.5.7,>=1.5.6 in /usr/local/lib/python3.10/dist-packages (from requests[socks]->gdown) (1.7.1)\n",
            "Downloading...\n",
            "From: https://drive.google.com/uc?id=1XHmylmQS9P3NJ-71GviyRaNH2R6WQ8jq\n",
            "To: /content/datos_descargados.csv\n",
            "100% 12.2k/12.2k [00:00<00:00, 34.0MB/s]\n",
            "datos_descargados.csv  sample_data\n"
          ]
        },
        {
          "output_type": "stream",
          "name": "stderr",
          "text": [
            "<ipython-input-48-ca7555a1a1ef>:22: RuntimeWarning: More than 20 figures have been opened. Figures created through the pyplot interface (`matplotlib.pyplot.figure`) are retained until explicitly closed and may consume too much memory. (To control this warning, see the rcParam `figure.max_open_warning`). Consider using `matplotlib.pyplot.close()`.\n",
            "  plt.figure(figsize=(10, 6))\n"
          ]
        }
      ]
    }
  ]
}